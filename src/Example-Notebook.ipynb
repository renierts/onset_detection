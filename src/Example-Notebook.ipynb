{
 "cells": [
  {
   "cell_type": "markdown",
   "id": "38932301-52a2-43c9-bb9c-08b55d9e600b",
   "metadata": {},
   "source": [
    "# Template Repository for Research Papers with Python Code\n",
    "\n",
    "Main Code to reproduce the results in the paper"
   ]
  },
  {
   "cell_type": "code",
   "execution_count": null,
   "id": "2ffacc49-0f71-4b0b-9bc3-0c13a8a3088d",
   "metadata": {},
   "outputs": [],
   "source": [
    "import logging\n",
    "\n",
    "import matplotlib.pyplot as plt\n",
    "import seaborn as sns\n",
    "\n",
    "from sklearn.preprocessing import StandardScaler\n",
    "from sklearn.model_selection import RandomizedSearchCV\n",
    "from sklearn.utils.fixes import loguniform\n",
    "from scipy.stats import uniform\n",
    "from file_handling import (\n",
    "    load_data, export_results, serialize_model, deserialize_model)\n",
    "from preprocessing import select_features\n",
    "\n",
    "from pyrcn.extreme_learning_machine import ELMRegressor"
   ]
  },
  {
   "cell_type": "markdown",
   "id": "38f2ea5a-492a-4745-bf82-65bfb2e5534e",
   "metadata": {},
   "source": [
    "To suppress functionality, you can easily deactivate these options"
   ]
  },
  {
   "cell_type": "code",
   "execution_count": null,
   "id": "ca6732b6-f733-4b52-9a9d-213244bedeb1",
   "metadata": {},
   "outputs": [],
   "source": [
    "plot=False\n",
    "export=True\n",
    "serialize=True"
   ]
  },
  {
   "cell_type": "markdown",
   "id": "f14bfd23-76e5-4c08-8446-918da40ac047",
   "metadata": {},
   "source": [
    "At first, we load the training dataset"
   ]
  },
  {
   "cell_type": "code",
   "execution_count": null,
   "id": "1353f360-8f14-40c3-a39b-af8d232e01ad",
   "metadata": {},
   "outputs": [],
   "source": [
    "training_data = load_data(\"../data/train.csv\")\n",
    "if plot:\n",
    "    fig, axs = plt.subplots()\n",
    "    sns.scatterplot(\n",
    "        data=training_data, x=\"GrLivArea\", y=\"SalePrice\", ax=axs)\n",
    "    plt.title(\"Training data\")\n",
    "    plt.tight_layout()"
   ]
  },
  {
   "cell_type": "markdown",
   "id": "5c6a398e-f7fd-4aee-80d2-8e0c1bbfd9b9",
   "metadata": {},
   "source": [
    "Next, we scale the input data to have zero mean and unitary a variance of 1, and transform our training data"
   ]
  },
  {
   "cell_type": "code",
   "execution_count": null,
   "id": "8fce3042-4e40-4f28-b240-d9b7300ffad1",
   "metadata": {},
   "outputs": [],
   "source": [
    "X, y, feature_trf = select_features(\n",
    "    df=training_data, input_features=[\"GrLivArea\"], target=\"SalePrice\")\n",
    "scaler = StandardScaler().fit(X)\n",
    "X_train = scaler.transform(X)\n",
    "y_train = y"
   ]
  },
  {
   "cell_type": "markdown",
   "id": "cdd1fc50-0055-411c-a613-d7a48aee027f",
   "metadata": {},
   "source": [
    "In case a pre-trained model is available, we can load this.\n",
    "\n",
    "If not, we train our model. If desired, we serialize the model."
   ]
  },
  {
   "cell_type": "code",
   "execution_count": null,
   "id": "135841e7-3210-488d-8f6c-3c53fa7a4766",
   "metadata": {},
   "outputs": [],
   "source": [
    "try:\n",
    "    model = deserialize_model(\"../results/model.joblib\")\n",
    "except FileNotFoundError:\n",
    "    model = RandomizedSearchCV(\n",
    "        estimator=ELMRegressor(input_activation=\"relu\", random_state=42,\n",
    "                               hidden_layer_size=50),\n",
    "        param_distributions={\"input_scaling\": uniform(loc=0, scale=2),\n",
    "                             \"bias_scaling\": uniform(loc=0, scale=2),\n",
    "                             \"alpha\": loguniform(1e-5, 1e1)},\n",
    "        random_state=42, n_iter=200, refit=True).fit(X, y)\n",
    "\n",
    "if serialize:\n",
    "    serialize_model(model, \"../results/model.joblib\")"
   ]
  },
  {
   "cell_type": "markdown",
   "id": "d1aa87dd-84c7-400b-9004-f4864ffb43ba",
   "metadata": {},
   "source": [
    "We can visualize how bad this model performs on the training data."
   ]
  },
  {
   "cell_type": "code",
   "execution_count": null,
   "id": "5f7ebffd-b29d-436c-8dbf-d4976537f8d9",
   "metadata": {},
   "outputs": [],
   "source": [
    "if plot:\n",
    "    y_pred = model.predict(X)\n",
    "    fig, axs = plt.subplots()\n",
    "    sns.scatterplot(\n",
    "        data=training_data, x=\"GrLivArea\", y=\"SalePrice\", ax=axs)\n",
    "    plt.title(\"Training data\")\n",
    "    sns.scatterplot(x=training_data[\"GrLivArea\"], y=y_pred, ax=axs)\n",
    "    plt.tight_layout()"
   ]
  },
  {
   "cell_type": "markdown",
   "id": "309cad99-1f92-4b57-9203-a9acfa805099",
   "metadata": {},
   "source": [
    "Next, we load the test dataset, scale it using the fitted scaler and predict the house prices."
   ]
  },
  {
   "cell_type": "code",
   "execution_count": null,
   "id": "b1365640-0b9b-42c3-8b12-80de7c6cb853",
   "metadata": {},
   "outputs": [],
   "source": [
    "test_data = load_data(\"../data/test.csv\")\n",
    "X = feature_trf.transform(test_data)\n",
    "X_test = scaler.transform(X)\n",
    "y_pred = model.predict(X_test)"
   ]
  },
  {
   "cell_type": "markdown",
   "id": "08c4803c-0bfa-4de1-8961-65b7daf5c248",
   "metadata": {},
   "source": [
    "We can visualize how bad this model performs on the test data."
   ]
  },
  {
   "cell_type": "code",
   "execution_count": null,
   "id": "5186f53f-37e1-4d4c-8497-37bc01bf5179",
   "metadata": {},
   "outputs": [],
   "source": [
    "if plot:\n",
    "    fig, axs = plt.subplots()\n",
    "    sns.scatterplot(x=X, y=y_pred, ax=axs)\n",
    "    plt.ylabel(\"Predicted SalePrice\")\n",
    "    plt.title(\"Test data\")\n",
    "    plt.tight_layout()"
   ]
  },
  {
   "cell_type": "markdown",
   "id": "ec1d0702-8532-4c9b-bd47-03c4c4001aa0",
   "metadata": {},
   "source": [
    "Finally, we export our results if desired."
   ]
  },
  {
   "cell_type": "code",
   "execution_count": null,
   "id": "5e6b587e-de90-4b15-ac19-6713a515c687",
   "metadata": {},
   "outputs": [],
   "source": [
    "results = {\n",
    "        \"GrLivArea\": test_data[\"GrLivArea\"], \"PredictedSalePrice\": y_pred.ravel()}\n",
    "\n",
    "if export:\n",
    "    export_results(results, \"../results/results.csv\")"
   ]
  },
  {
   "cell_type": "code",
   "execution_count": null,
   "id": "e7137b6a-cde9-4502-971f-5b1a183db85d",
   "metadata": {},
   "outputs": [],
   "source": []
  }
 ],
 "metadata": {
  "kernelspec": {
   "display_name": "Python 3 (ipykernel)",
   "language": "python",
   "name": "python3"
  },
  "language_info": {
   "codemirror_mode": {
    "name": "ipython",
    "version": 3
   },
   "file_extension": ".py",
   "mimetype": "text/x-python",
   "name": "python",
   "nbconvert_exporter": "python",
   "pygments_lexer": "ipython3",
   "version": "3.8.6"
  }
 },
 "nbformat": 4,
 "nbformat_minor": 5
}
